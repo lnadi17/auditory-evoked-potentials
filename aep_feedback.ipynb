{
 "cells": [
  {
   "cell_type": "code",
   "execution_count": 1,
   "id": "initial_id",
   "metadata": {
    "collapsed": true,
    "ExecuteTime": {
     "end_time": "2024-04-25T06:44:07.239592Z",
     "start_time": "2024-04-25T06:44:07.119345Z"
    }
   },
   "outputs": [],
   "source": [
    "from Recordings import AEPFeedbackRecording, Recordings, Recording"
   ]
  },
  {
   "cell_type": "code",
   "outputs": [
    {
     "name": "stdout",
     "output_type": "stream",
     "text": [
      "Reading recording: ./Recordings/1/.DS_Store\n",
      "Reading recording: ./Recordings/1/7/1/7_aep_2024-03-28_14-34-11_1.xdf\n",
      "Reading recording: ./Recordings/1/7/1/7_aep_feedback_2024-03-28_14-41-11_1.xdf\n",
      "Reading recording: ./Recordings/1/7/2/7_aep_feedback_2024-03-28_14-55-34_2.xdf\n",
      "WARNING, data validation failed. Recording 7_aep_feedback_2024-03-28_14-55-34_2.xdf does not match its metadata.\n",
      "Reading recording: ./Recordings/1/7/2/7_aep_2024-03-28_14-49-32_2.xdf\n",
      "WARNING, data validation failed. Recording 7_aep_2024-03-28_14-49-32_2.xdf does not match its metadata.\n",
      "Reading recording: ./Recordings/1/6/1/6_aep_feedback_2024-03-27_15-09-15_1.xdf\n",
      "Reading recording: ./Recordings/1/6/1/6_aep_2024-03-27_14-59-46_1.xdf\n",
      "Reading recording: ./Recordings/1/6/2/6_aep_2024-03-27_15-21-10_2.xdf\n",
      "Reading recording: ./Recordings/1/6/2/6_aep_feedback_2024-03-27_15-27-30_2.xdf\n",
      "Reading recording: ./Recordings/1/1/1/1_aep_2024-03-14_15-33-07_1.xdf\n",
      "Reading recording: ./Recordings/1/1/1/1_aep_feedback_2024-03-14_15-40-09_1.xdf\n",
      "Reading recording: ./Recordings/1/1/2/1_aep_2024-03-14_15-55-54_2.xdf\n",
      "Reading recording: ./Recordings/1/1/2/1_aep_feedback_2024-03-14_16-07-46_2.xdf\n",
      "Reading recording: ./Recordings/1/4/1/4_aep_feedback_2024-03-21_15-36-36_1.xdf\n",
      "Reading recording: ./Recordings/1/4/1/4_aep_2024-03-21_15-29-59_1.xdf\n",
      "Reading recording: ./Recordings/1/4/2/4_aep_2024-03-21_15-47-01_2.xdf\n",
      "Reading recording: ./Recordings/1/4/2/4_aep_feedback_2024-03-21_15-52-36_2.xdf\n",
      "Reading recording: ./Recordings/1/3/1/3_aep_feedback_2024-03-21_14-43-26_1.xdf\n",
      "Reading recording: ./Recordings/1/3/1/3_aep_2024-03-21_14-35-57_1.xdf\n",
      "Reading recording: ./Recordings/1/3/2/3_aep_2024-03-21_14-52-22_2.xdf\n",
      "WARNING, data validation failed. Recording 3_aep_2024-03-21_14-52-22_2.xdf does not match its metadata.\n",
      "Reading recording: ./Recordings/1/3/2/3_aep_feedback_2024-03-21_14-58-12_2.xdf\n",
      "WARNING, data validation failed. Recording 3_aep_feedback_2024-03-21_14-58-12_2.xdf does not match its metadata.\n",
      "Reading recording: ./Recordings/1/2/1/2_aep_feedback_2024-03-27_13-00-43_1.xdf\n",
      "Reading recording: ./Recordings/1/2/1/2_aep_2024-03-18_15-35-07_1.xdf\n",
      "Reading recording: ./Recordings/1/2/1/2_aep_feedback_2024-03-18_15-42-22_1.xdf\n",
      "WARNING, data validation failed. Skipping trial... 758\n",
      "WARNING, data validation failed. Skipping trial... 771\n",
      "WARNING, data validation failed. Skipping trial... 813\n",
      "WARNING, data validation failed. Skipping trial... 854\n",
      "WARNING, data validation failed. Skipping trial... 866\n",
      "Reading recording: ./Recordings/1/2/2/2_aep_feedback_2024-03-27_13-15-18_2.xdf\n",
      "WARNING, data validation failed. Recording 2_aep_feedback_2024-03-27_13-15-18_2.xdf does not match its metadata.\n",
      "Reading recording: ./Recordings/1/2/2/2_aep_2024-03-27_13-08-36_2.xdf\n",
      "WARNING, data validation failed. Recording 2_aep_2024-03-27_13-08-36_2.xdf does not match its metadata.\n",
      "Reading recording: ./Recordings/1/5/1/5_aep_feedback_2024-03-27_13-55-48_1.xdf\n",
      "Reading recording: ./Recordings/1/5/1/5_aep_2024-03-27_13-45-46_1.xdf\n",
      "Reading recording: ./Recordings/1/5/2/5_aep_feedback_2024-03-27_14-14-36_2.xdf\n",
      "WARNING, data validation failed. Recording 5_aep_feedback_2024-03-27_14-14-36_2.xdf does not match its metadata.\n",
      "Reading recording: ./Recordings/1/5/2/5_aep_2024-03-27_14-08-26_2.xdf\n",
      "WARNING, data validation failed. Recording 5_aep_2024-03-27_14-08-26_2.xdf does not match its metadata.\n",
      "---\n",
      "Recording name: 7_aep_feedback_2024-03-28_14-41-11_1.xdf\n",
      "Group: 1\n",
      "Session: 1\n",
      "Subject ID: 7\n",
      "Experiment ID: aep_feedback\n",
      "Metadata:\n",
      "{'effective_sample_rate': 250.23058357455616, 'subject': {'id': 7, 'group': 1, 'session': 1}}\n",
      "---\n",
      "---\n",
      "Recording name: 7_aep_feedback_2024-03-28_14-55-34_2.xdf\n",
      "Group: 1\n",
      "Session: 2\n",
      "Subject ID: 7\n",
      "Experiment ID: aep_feedback\n",
      "Metadata:\n",
      "{'effective_sample_rate': 250.19383567825312, 'subject': {'id': 7, 'group': 1, 'session': 1}}\n",
      "---\n",
      "---\n",
      "Recording name: 6_aep_feedback_2024-03-27_15-09-15_1.xdf\n",
      "Group: 1\n",
      "Session: 1\n",
      "Subject ID: 6\n",
      "Experiment ID: aep_feedback\n",
      "Metadata:\n",
      "{'effective_sample_rate': 250.185522974523, 'subject': {'id': 6, 'group': 1, 'session': 1}}\n",
      "---\n",
      "---\n",
      "Recording name: 6_aep_feedback_2024-03-27_15-27-30_2.xdf\n",
      "Group: 1\n",
      "Session: 2\n",
      "Subject ID: 6\n",
      "Experiment ID: aep_feedback\n",
      "Metadata:\n",
      "{'effective_sample_rate': 250.15526824739825, 'subject': {'id': 6, 'group': 1, 'session': 2}}\n",
      "---\n",
      "---\n",
      "Recording name: 1_aep_feedback_2024-03-14_15-40-09_1.xdf\n",
      "Group: 1\n",
      "Session: 1\n",
      "Subject ID: 1\n",
      "Experiment ID: aep_feedback\n",
      "Metadata:\n",
      "{'effective_sample_rate': 250.2072283923203, 'subject': {'id': 1, 'group': 1, 'session': 1}}\n",
      "---\n",
      "---\n",
      "Recording name: 1_aep_feedback_2024-03-14_16-07-46_2.xdf\n",
      "Group: 1\n",
      "Session: 2\n",
      "Subject ID: 1\n",
      "Experiment ID: aep_feedback\n",
      "Metadata:\n",
      "{'effective_sample_rate': 250.1890750414984, 'subject': {'id': 1, 'group': 1, 'session': 2}}\n",
      "---\n",
      "---\n",
      "Recording name: 4_aep_feedback_2024-03-21_15-36-36_1.xdf\n",
      "Group: 1\n",
      "Session: 1\n",
      "Subject ID: 4\n",
      "Experiment ID: aep_feedback\n",
      "Metadata:\n",
      "{'effective_sample_rate': 250.19573477793003, 'subject': {'id': 4, 'group': 1, 'session': 1}}\n",
      "---\n",
      "---\n",
      "Recording name: 4_aep_feedback_2024-03-21_15-52-36_2.xdf\n",
      "Group: 1\n",
      "Session: 2\n",
      "Subject ID: 4\n",
      "Experiment ID: aep_feedback\n",
      "Metadata:\n",
      "{'effective_sample_rate': 250.15464316256902, 'subject': {'id': 4, 'group': 1, 'session': 2}}\n",
      "---\n",
      "---\n",
      "Recording name: 3_aep_feedback_2024-03-21_14-43-26_1.xdf\n",
      "Group: 1\n",
      "Session: 1\n",
      "Subject ID: 3\n",
      "Experiment ID: aep_feedback\n",
      "Metadata:\n",
      "{'effective_sample_rate': 250.22882585807474, 'subject': {'id': 3, 'group': 1, 'session': 1}}\n",
      "---\n",
      "---\n",
      "Recording name: 3_aep_feedback_2024-03-21_14-58-12_2.xdf\n",
      "Group: 1\n",
      "Session: 2\n",
      "Subject ID: 3\n",
      "Experiment ID: aep_feedback\n",
      "Metadata:\n",
      "{'effective_sample_rate': 250.1895680627327, 'subject': {'id': 3, 'group': 1, 'session': 1}}\n",
      "---\n",
      "---\n",
      "Recording name: 2_aep_feedback_2024-03-27_13-00-43_1.xdf\n",
      "Group: 1\n",
      "Session: 1\n",
      "Subject ID: 2\n",
      "Experiment ID: aep_feedback\n",
      "Metadata:\n",
      "{'effective_sample_rate': 250.25731622728352, 'subject': {'id': 2, 'group': 1, 'session': 1}}\n",
      "---\n",
      "---\n",
      "Recording name: 2_aep_feedback_2024-03-18_15-42-22_1.xdf\n",
      "Group: 1\n",
      "Session: 1\n",
      "Subject ID: 2\n",
      "Experiment ID: aep_feedback\n",
      "Metadata:\n",
      "{'effective_sample_rate': 250.24353725454242, 'subject': {'id': 2, 'group': 1, 'session': 1}}\n",
      "---\n",
      "---\n",
      "Recording name: 2_aep_feedback_2024-03-27_13-15-18_2.xdf\n",
      "Group: 1\n",
      "Session: 2\n",
      "Subject ID: 2\n",
      "Experiment ID: aep_feedback\n",
      "Metadata:\n",
      "{'effective_sample_rate': 250.20409177589667, 'subject': {'id': 2, 'group': 1, 'session': 1}}\n",
      "---\n",
      "---\n",
      "Recording name: 5_aep_feedback_2024-03-27_13-55-48_1.xdf\n",
      "Group: 1\n",
      "Session: 1\n",
      "Subject ID: 5\n",
      "Experiment ID: aep_feedback\n",
      "Metadata:\n",
      "{'effective_sample_rate': 250.19902473611592, 'subject': {'id': 5, 'group': 1, 'session': 1}}\n",
      "---\n",
      "---\n",
      "Recording name: 5_aep_feedback_2024-03-27_14-14-36_2.xdf\n",
      "Group: 1\n",
      "Session: 2\n",
      "Subject ID: 5\n",
      "Experiment ID: aep_feedback\n",
      "Metadata:\n",
      "{'effective_sample_rate': 250.18655634941786, 'subject': {'id': 5, 'group': 1, 'session': 1}}\n",
      "---\n"
     ]
    }
   ],
   "source": [
    "# Load the data\n",
    "basepath = './Recordings'\n",
    "recordings = Recordings(basepath)\n",
    "recordings.print_info(group='*', session='*', subject_id='*', experiment_id='aep_feedback')"
   ],
   "metadata": {
    "collapsed": false,
    "ExecuteTime": {
     "end_time": "2024-04-25T06:44:10.941504Z",
     "start_time": "2024-04-25T06:44:07.633615Z"
    }
   },
   "id": "e051e4129493e5a1",
   "execution_count": 2
  },
  {
   "cell_type": "code",
   "outputs": [],
   "source": [
    "aep_feedback_recordings = recordings.filter_by(group='*', session='*', subject_id='*', experiment_id='aep_feedback')"
   ],
   "metadata": {
    "collapsed": false,
    "ExecuteTime": {
     "end_time": "2024-04-25T06:44:12.846179Z",
     "start_time": "2024-04-25T06:44:12.841692Z"
    }
   },
   "id": "abb063dbc6f498d",
   "execution_count": 3
  },
  {
   "cell_type": "code",
   "outputs": [],
   "source": [
    "test_recording = aep_feedback_recordings[0]"
   ],
   "metadata": {
    "collapsed": false,
    "ExecuteTime": {
     "end_time": "2024-04-25T06:44:13.202754Z",
     "start_time": "2024-04-25T06:44:13.198305Z"
    }
   },
   "id": "9d50ec7df4dae3bc",
   "execution_count": 4
  },
  {
   "cell_type": "code",
   "outputs": [],
   "source": [
    "# trial-begin\n",
    "# standard/oddball\n",
    "# response-received-(arrow_up/arrow_down)/response-was-missed\n",
    "# response-was-(correct/incorrect)/None\n",
    "# rt-(XXXms)\n",
    "# trial-end\n",
    "# ---"
   ],
   "metadata": {
    "collapsed": false,
    "ExecuteTime": {
     "end_time": "2024-04-25T06:44:13.990931Z",
     "start_time": "2024-04-25T06:44:13.986726Z"
    }
   },
   "id": "392ddc270f56b26a",
   "execution_count": 5
  },
  {
   "cell_type": "code",
   "outputs": [
    {
     "data": {
      "text/plain": "array([66.66667, 66.66667, 66.66667, ..., 66.66667, 66.66667, 66.66667],\n      dtype=float32)"
     },
     "execution_count": 9,
     "metadata": {},
     "output_type": "execute_result"
    }
   ],
   "source": [
    "test_recording.battery_level_data"
   ],
   "metadata": {
    "collapsed": false,
    "ExecuteTime": {
     "end_time": "2024-04-25T06:44:40.882660Z",
     "start_time": "2024-04-25T06:44:40.877019Z"
    }
   },
   "id": "432f09db0830fde5",
   "execution_count": 9
  },
  {
   "cell_type": "code",
   "outputs": [],
   "source": [],
   "metadata": {
    "collapsed": false
   },
   "id": "cad925620e93ea0f"
  }
 ],
 "metadata": {
  "kernelspec": {
   "display_name": "Python 3",
   "language": "python",
   "name": "python3"
  },
  "language_info": {
   "codemirror_mode": {
    "name": "ipython",
    "version": 2
   },
   "file_extension": ".py",
   "mimetype": "text/x-python",
   "name": "python",
   "nbconvert_exporter": "python",
   "pygments_lexer": "ipython2",
   "version": "2.7.6"
  }
 },
 "nbformat": 4,
 "nbformat_minor": 5
}
