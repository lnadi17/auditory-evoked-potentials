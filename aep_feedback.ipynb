{
 "cells": [
  {
   "cell_type": "code",
   "execution_count": 1,
   "id": "initial_id",
   "metadata": {
    "collapsed": true,
    "ExecuteTime": {
     "end_time": "2024-04-25T07:22:04.028444Z",
     "start_time": "2024-04-25T07:22:03.890051Z"
    }
   },
   "outputs": [],
   "source": [
    "from Recordings import AEPFeedbackRecording, Recordings, Recording"
   ]
  },
  {
   "cell_type": "code",
   "outputs": [
    {
     "name": "stdout",
     "output_type": "stream",
     "text": [
      "Reading recording: ./Recordings/1/.DS_Store\n",
      "Reading recording: ./Recordings/1/7/1/7_aep_2024-03-28_14-34-11_1.xdf\n",
      "Reading recording: ./Recordings/1/7/1/7_aep_feedback_2024-03-28_14-41-11_1.xdf\n",
      "Creating RawArray with float64 data, n_channels=8, n_times=108836\n",
      "    Range : 0 ... 108835 =      0.000 ...   435.340 secs\n",
      "Ready.\n",
      "Filtering raw data in 1 contiguous segment\n",
      "Setting up band-stop filter\n",
      "\n",
      "FIR filter parameters\n",
      "---------------------\n",
      "Designing a one-pass, zero-phase, non-causal bandstop filter:\n",
      "- Windowed time-domain design (firwin) method\n",
      "- Hamming window with 0.0194 passband ripple and 53 dB stopband attenuation\n",
      "- Lower transition bandwidth: 0.50 Hz\n",
      "- Upper transition bandwidth: 0.50 Hz\n",
      "- Filter length: 1651 samples (6.604 s)\n",
      "Filtering raw data in 1 contiguous segment\n",
      "Setting up band-pass filter from 0.1 - 60 Hz\n",
      "\n",
      "FIR filter parameters\n",
      "---------------------\n",
      "Designing a one-pass, zero-phase, non-causal bandpass filter:\n",
      "- Windowed time-domain design (firwin) method\n",
      "- Hamming window with 0.0194 passband ripple and 53 dB stopband attenuation\n",
      "- Lower passband edge: 0.10\n",
      "- Lower transition bandwidth: 0.10 Hz (-6 dB cutoff frequency: 0.05 Hz)\n",
      "- Upper passband edge: 60.00 Hz\n",
      "- Upper transition bandwidth: 15.00 Hz (-6 dB cutoff frequency: 67.50 Hz)\n",
      "- Filter length: 8251 samples (33.004 s)\n"
     ]
    },
    {
     "ename": "RuntimeError",
     "evalue": "Event time samples were not unique. Consider setting the `event_repeated` parameter.\"",
     "output_type": "error",
     "traceback": [
      "\u001B[0;31m---------------------------------------------------------------------------\u001B[0m",
      "\u001B[0;31mRuntimeError\u001B[0m                              Traceback (most recent call last)",
      "Cell \u001B[0;32mIn[2], line 3\u001B[0m\n\u001B[1;32m      1\u001B[0m \u001B[38;5;66;03m# Load the data\u001B[39;00m\n\u001B[1;32m      2\u001B[0m basepath \u001B[38;5;241m=\u001B[39m \u001B[38;5;124m'\u001B[39m\u001B[38;5;124m./Recordings\u001B[39m\u001B[38;5;124m'\u001B[39m\n\u001B[0;32m----> 3\u001B[0m recordings \u001B[38;5;241m=\u001B[39m \u001B[43mRecordings\u001B[49m\u001B[43m(\u001B[49m\u001B[43mbasepath\u001B[49m\u001B[43m)\u001B[49m\n\u001B[1;32m      4\u001B[0m recordings\u001B[38;5;241m.\u001B[39mprint_info(group\u001B[38;5;241m=\u001B[39m\u001B[38;5;124m'\u001B[39m\u001B[38;5;124m*\u001B[39m\u001B[38;5;124m'\u001B[39m, session\u001B[38;5;241m=\u001B[39m\u001B[38;5;124m'\u001B[39m\u001B[38;5;124m*\u001B[39m\u001B[38;5;124m'\u001B[39m, subject_id\u001B[38;5;241m=\u001B[39m\u001B[38;5;124m'\u001B[39m\u001B[38;5;124m*\u001B[39m\u001B[38;5;124m'\u001B[39m, experiment_id\u001B[38;5;241m=\u001B[39m\u001B[38;5;124m'\u001B[39m\u001B[38;5;124maep_feedback\u001B[39m\u001B[38;5;124m'\u001B[39m)\n",
      "File \u001B[0;32m~/Documents/GitHub/auditory-evoked-potentials/Recordings.py:13\u001B[0m, in \u001B[0;36mRecordings.__init__\u001B[0;34m(self, directory)\u001B[0m\n\u001B[1;32m     11\u001B[0m \u001B[38;5;28;01mif\u001B[39;00m path\u001B[38;5;241m.\u001B[39mendswith(\u001B[38;5;124m'\u001B[39m\u001B[38;5;124m.xdf\u001B[39m\u001B[38;5;124m'\u001B[39m):\n\u001B[1;32m     12\u001B[0m     \u001B[38;5;28;01mif\u001B[39;00m \u001B[38;5;124m'\u001B[39m\u001B[38;5;124maep_feedback\u001B[39m\u001B[38;5;124m'\u001B[39m \u001B[38;5;129;01min\u001B[39;00m path:\n\u001B[0;32m---> 13\u001B[0m         \u001B[38;5;28mself\u001B[39m\u001B[38;5;241m.\u001B[39mrecordings\u001B[38;5;241m.\u001B[39mappend(\u001B[43mAEPFeedbackRecording\u001B[49m\u001B[43m(\u001B[49m\u001B[43mpath\u001B[49m\u001B[43m)\u001B[49m)\n\u001B[1;32m     14\u001B[0m     \u001B[38;5;28;01melse\u001B[39;00m:\n\u001B[1;32m     15\u001B[0m         \u001B[38;5;28mself\u001B[39m\u001B[38;5;241m.\u001B[39mrecordings\u001B[38;5;241m.\u001B[39mappend(Recording(path))\n",
      "File \u001B[0;32m~/Documents/GitHub/auditory-evoked-potentials/Recording.py:91\u001B[0m, in \u001B[0;36mAEPFeedbackRecording.__init__\u001B[0;34m(self, xdf_path)\u001B[0m\n\u001B[1;32m     89\u001B[0m \u001B[38;5;28msuper\u001B[39m()\u001B[38;5;241m.\u001B[39m\u001B[38;5;21m__init__\u001B[39m(xdf_path)\n\u001B[1;32m     90\u001B[0m \u001B[38;5;28mself\u001B[39m\u001B[38;5;241m.\u001B[39m_create_mne_raw_data(max_frequency\u001B[38;5;241m=\u001B[39m\u001B[38;5;241m60\u001B[39m)\n\u001B[0;32m---> 91\u001B[0m \u001B[38;5;28;43mself\u001B[39;49m\u001B[38;5;241;43m.\u001B[39;49m\u001B[43m_read_feedback_data\u001B[49m\u001B[43m(\u001B[49m\u001B[43m)\u001B[49m\n",
      "File \u001B[0;32m~/Documents/GitHub/auditory-evoked-potentials/Recording.py:160\u001B[0m, in \u001B[0;36mAEPFeedbackRecording._read_feedback_data\u001B[0;34m(self)\u001B[0m\n\u001B[1;32m    158\u001B[0m \u001B[38;5;28mself\u001B[39m\u001B[38;5;241m.\u001B[39mmne_events \u001B[38;5;241m=\u001B[39m np\u001B[38;5;241m.\u001B[39marray(\u001B[38;5;28mself\u001B[39m\u001B[38;5;241m.\u001B[39mmne_events)\n\u001B[1;32m    159\u001B[0m event_dict \u001B[38;5;241m=\u001B[39m {\u001B[38;5;124m'\u001B[39m\u001B[38;5;124moddball\u001B[39m\u001B[38;5;124m'\u001B[39m: \u001B[38;5;241m1\u001B[39m, \u001B[38;5;124m'\u001B[39m\u001B[38;5;124mstandard\u001B[39m\u001B[38;5;124m'\u001B[39m: \u001B[38;5;241m0\u001B[39m, \u001B[38;5;124m'\u001B[39m\u001B[38;5;124mcorrect\u001B[39m\u001B[38;5;124m'\u001B[39m: \u001B[38;5;241m2\u001B[39m, \u001B[38;5;124m'\u001B[39m\u001B[38;5;124mincorrect\u001B[39m\u001B[38;5;124m'\u001B[39m: \u001B[38;5;241m3\u001B[39m}\n\u001B[0;32m--> 160\u001B[0m \u001B[38;5;28mself\u001B[39m\u001B[38;5;241m.\u001B[39m_epochs \u001B[38;5;241m=\u001B[39m \u001B[43mmne\u001B[49m\u001B[38;5;241;43m.\u001B[39;49m\u001B[43mEpochs\u001B[49m\u001B[43m(\u001B[49m\u001B[38;5;28;43mself\u001B[39;49m\u001B[38;5;241;43m.\u001B[39;49m\u001B[43m_raw\u001B[49m\u001B[43m,\u001B[49m\u001B[43m \u001B[49m\u001B[38;5;28;43mself\u001B[39;49m\u001B[38;5;241;43m.\u001B[39;49m\u001B[43mmne_events\u001B[49m\u001B[43m,\u001B[49m\u001B[43m \u001B[49m\u001B[43mevent_id\u001B[49m\u001B[38;5;241;43m=\u001B[39;49m\u001B[43mevent_dict\u001B[49m\u001B[43m,\u001B[49m\u001B[43m \u001B[49m\u001B[43mtmin\u001B[49m\u001B[38;5;241;43m=\u001B[39;49m\u001B[38;5;241;43m-\u001B[39;49m\u001B[38;5;241;43m0.2\u001B[39;49m\u001B[43m,\u001B[49m\u001B[43m \u001B[49m\u001B[43mtmax\u001B[49m\u001B[38;5;241;43m=\u001B[39;49m\u001B[38;5;241;43m0.8\u001B[39;49m\u001B[43m,\u001B[49m\u001B[43m \u001B[49m\u001B[43mpreload\u001B[49m\u001B[38;5;241;43m=\u001B[39;49m\u001B[38;5;28;43;01mTrue\u001B[39;49;00m\u001B[43m)\u001B[49m\n",
      "File \u001B[0;32m<decorator-gen-220>:12\u001B[0m, in \u001B[0;36m__init__\u001B[0;34m(self, raw, events, event_id, tmin, tmax, baseline, picks, preload, reject, flat, proj, decim, reject_tmin, reject_tmax, detrend, on_missing, reject_by_annotation, metadata, event_repeated, verbose)\u001B[0m\n",
      "File \u001B[0;32m~/Documents/GitHub/auditory-evoked-potentials/.venv/lib/python3.11/site-packages/mne/epochs.py:3253\u001B[0m, in \u001B[0;36mEpochs.__init__\u001B[0;34m(self, raw, events, event_id, tmin, tmax, baseline, picks, preload, reject, flat, proj, decim, reject_tmin, reject_tmax, detrend, on_missing, reject_by_annotation, metadata, event_repeated, verbose)\u001B[0m\n\u001B[1;32m   3250\u001B[0m raw_sfreq \u001B[38;5;241m=\u001B[39m raw\u001B[38;5;241m.\u001B[39minfo[\u001B[38;5;124m\"\u001B[39m\u001B[38;5;124msfreq\u001B[39m\u001B[38;5;124m\"\u001B[39m]\n\u001B[1;32m   3252\u001B[0m \u001B[38;5;66;03m# call BaseEpochs constructor\u001B[39;00m\n\u001B[0;32m-> 3253\u001B[0m \u001B[38;5;28;43msuper\u001B[39;49m\u001B[43m(\u001B[49m\u001B[43mEpochs\u001B[49m\u001B[43m,\u001B[49m\u001B[43m \u001B[49m\u001B[38;5;28;43mself\u001B[39;49m\u001B[43m)\u001B[49m\u001B[38;5;241;43m.\u001B[39;49m\u001B[38;5;21;43m__init__\u001B[39;49m\u001B[43m(\u001B[49m\n\u001B[1;32m   3254\u001B[0m \u001B[43m    \u001B[49m\u001B[43minfo\u001B[49m\u001B[43m,\u001B[49m\n\u001B[1;32m   3255\u001B[0m \u001B[43m    \u001B[49m\u001B[38;5;28;43;01mNone\u001B[39;49;00m\u001B[43m,\u001B[49m\n\u001B[1;32m   3256\u001B[0m \u001B[43m    \u001B[49m\u001B[43mevents\u001B[49m\u001B[43m,\u001B[49m\n\u001B[1;32m   3257\u001B[0m \u001B[43m    \u001B[49m\u001B[43mevent_id\u001B[49m\u001B[43m,\u001B[49m\n\u001B[1;32m   3258\u001B[0m \u001B[43m    \u001B[49m\u001B[43mtmin\u001B[49m\u001B[43m,\u001B[49m\n\u001B[1;32m   3259\u001B[0m \u001B[43m    \u001B[49m\u001B[43mtmax\u001B[49m\u001B[43m,\u001B[49m\n\u001B[1;32m   3260\u001B[0m \u001B[43m    \u001B[49m\u001B[43mmetadata\u001B[49m\u001B[38;5;241;43m=\u001B[39;49m\u001B[43mmetadata\u001B[49m\u001B[43m,\u001B[49m\n\u001B[1;32m   3261\u001B[0m \u001B[43m    \u001B[49m\u001B[43mbaseline\u001B[49m\u001B[38;5;241;43m=\u001B[39;49m\u001B[43mbaseline\u001B[49m\u001B[43m,\u001B[49m\n\u001B[1;32m   3262\u001B[0m \u001B[43m    \u001B[49m\u001B[43mraw\u001B[49m\u001B[38;5;241;43m=\u001B[39;49m\u001B[43mraw\u001B[49m\u001B[43m,\u001B[49m\n\u001B[1;32m   3263\u001B[0m \u001B[43m    \u001B[49m\u001B[43mpicks\u001B[49m\u001B[38;5;241;43m=\u001B[39;49m\u001B[43mpicks\u001B[49m\u001B[43m,\u001B[49m\n\u001B[1;32m   3264\u001B[0m \u001B[43m    \u001B[49m\u001B[43mreject\u001B[49m\u001B[38;5;241;43m=\u001B[39;49m\u001B[43mreject\u001B[49m\u001B[43m,\u001B[49m\n\u001B[1;32m   3265\u001B[0m \u001B[43m    \u001B[49m\u001B[43mflat\u001B[49m\u001B[38;5;241;43m=\u001B[39;49m\u001B[43mflat\u001B[49m\u001B[43m,\u001B[49m\n\u001B[1;32m   3266\u001B[0m \u001B[43m    \u001B[49m\u001B[43mdecim\u001B[49m\u001B[38;5;241;43m=\u001B[39;49m\u001B[43mdecim\u001B[49m\u001B[43m,\u001B[49m\n\u001B[1;32m   3267\u001B[0m \u001B[43m    \u001B[49m\u001B[43mreject_tmin\u001B[49m\u001B[38;5;241;43m=\u001B[39;49m\u001B[43mreject_tmin\u001B[49m\u001B[43m,\u001B[49m\n\u001B[1;32m   3268\u001B[0m \u001B[43m    \u001B[49m\u001B[43mreject_tmax\u001B[49m\u001B[38;5;241;43m=\u001B[39;49m\u001B[43mreject_tmax\u001B[49m\u001B[43m,\u001B[49m\n\u001B[1;32m   3269\u001B[0m \u001B[43m    \u001B[49m\u001B[43mdetrend\u001B[49m\u001B[38;5;241;43m=\u001B[39;49m\u001B[43mdetrend\u001B[49m\u001B[43m,\u001B[49m\n\u001B[1;32m   3270\u001B[0m \u001B[43m    \u001B[49m\u001B[43mproj\u001B[49m\u001B[38;5;241;43m=\u001B[39;49m\u001B[43mproj\u001B[49m\u001B[43m,\u001B[49m\n\u001B[1;32m   3271\u001B[0m \u001B[43m    \u001B[49m\u001B[43mon_missing\u001B[49m\u001B[38;5;241;43m=\u001B[39;49m\u001B[43mon_missing\u001B[49m\u001B[43m,\u001B[49m\n\u001B[1;32m   3272\u001B[0m \u001B[43m    \u001B[49m\u001B[43mpreload_at_end\u001B[49m\u001B[38;5;241;43m=\u001B[39;49m\u001B[43mpreload\u001B[49m\u001B[43m,\u001B[49m\n\u001B[1;32m   3273\u001B[0m \u001B[43m    \u001B[49m\u001B[43mevent_repeated\u001B[49m\u001B[38;5;241;43m=\u001B[39;49m\u001B[43mevent_repeated\u001B[49m\u001B[43m,\u001B[49m\n\u001B[1;32m   3274\u001B[0m \u001B[43m    \u001B[49m\u001B[43mverbose\u001B[49m\u001B[38;5;241;43m=\u001B[39;49m\u001B[43mverbose\u001B[49m\u001B[43m,\u001B[49m\n\u001B[1;32m   3275\u001B[0m \u001B[43m    \u001B[49m\u001B[43mraw_sfreq\u001B[49m\u001B[38;5;241;43m=\u001B[39;49m\u001B[43mraw_sfreq\u001B[49m\u001B[43m,\u001B[49m\n\u001B[1;32m   3276\u001B[0m \u001B[43m    \u001B[49m\u001B[43mannotations\u001B[49m\u001B[38;5;241;43m=\u001B[39;49m\u001B[43mraw\u001B[49m\u001B[38;5;241;43m.\u001B[39;49m\u001B[43mannotations\u001B[49m\u001B[43m,\u001B[49m\n\u001B[1;32m   3277\u001B[0m \u001B[43m\u001B[49m\u001B[43m)\u001B[49m\n",
      "File \u001B[0;32m<decorator-gen-205>:12\u001B[0m, in \u001B[0;36m__init__\u001B[0;34m(self, info, data, events, event_id, tmin, tmax, baseline, raw, picks, reject, flat, decim, reject_tmin, reject_tmax, detrend, proj, on_missing, preload_at_end, selection, drop_log, filename, metadata, event_repeated, raw_sfreq, annotations, verbose)\u001B[0m\n",
      "File \u001B[0;32m~/Documents/GitHub/auditory-evoked-potentials/.venv/lib/python3.11/site-packages/mne/epochs.py:532\u001B[0m, in \u001B[0;36mBaseEpochs.__init__\u001B[0;34m(***failed resolving arguments***)\u001B[0m\n\u001B[1;32m    523\u001B[0m     \u001B[38;5;28mself\u001B[39m\u001B[38;5;241m.\u001B[39mdrop_log \u001B[38;5;241m=\u001B[39m drop_log\n\u001B[1;32m    525\u001B[0m \u001B[38;5;28mself\u001B[39m\u001B[38;5;241m.\u001B[39mevents \u001B[38;5;241m=\u001B[39m \u001B[38;5;28mself\u001B[39m\u001B[38;5;241m.\u001B[39mevents[selected]\n\u001B[1;32m    527\u001B[0m (\n\u001B[1;32m    528\u001B[0m     \u001B[38;5;28mself\u001B[39m\u001B[38;5;241m.\u001B[39mevents,\n\u001B[1;32m    529\u001B[0m     \u001B[38;5;28mself\u001B[39m\u001B[38;5;241m.\u001B[39mevent_id,\n\u001B[1;32m    530\u001B[0m     \u001B[38;5;28mself\u001B[39m\u001B[38;5;241m.\u001B[39mselection,\n\u001B[1;32m    531\u001B[0m     \u001B[38;5;28mself\u001B[39m\u001B[38;5;241m.\u001B[39mdrop_log,\n\u001B[0;32m--> 532\u001B[0m ) \u001B[38;5;241m=\u001B[39m \u001B[43m_handle_event_repeated\u001B[49m\u001B[43m(\u001B[49m\n\u001B[1;32m    533\u001B[0m \u001B[43m    \u001B[49m\u001B[38;5;28;43mself\u001B[39;49m\u001B[38;5;241;43m.\u001B[39;49m\u001B[43mevents\u001B[49m\u001B[43m,\u001B[49m\n\u001B[1;32m    534\u001B[0m \u001B[43m    \u001B[49m\u001B[38;5;28;43mself\u001B[39;49m\u001B[38;5;241;43m.\u001B[39;49m\u001B[43mevent_id\u001B[49m\u001B[43m,\u001B[49m\n\u001B[1;32m    535\u001B[0m \u001B[43m    \u001B[49m\u001B[43mevent_repeated\u001B[49m\u001B[43m,\u001B[49m\n\u001B[1;32m    536\u001B[0m \u001B[43m    \u001B[49m\u001B[38;5;28;43mself\u001B[39;49m\u001B[38;5;241;43m.\u001B[39;49m\u001B[43mselection\u001B[49m\u001B[43m,\u001B[49m\n\u001B[1;32m    537\u001B[0m \u001B[43m    \u001B[49m\u001B[38;5;28;43mself\u001B[39;49m\u001B[38;5;241;43m.\u001B[39;49m\u001B[43mdrop_log\u001B[49m\u001B[43m,\u001B[49m\n\u001B[1;32m    538\u001B[0m \u001B[43m\u001B[49m\u001B[43m)\u001B[49m\n\u001B[1;32m    540\u001B[0m \u001B[38;5;66;03m# then subselect\u001B[39;00m\n\u001B[1;32m    541\u001B[0m sub \u001B[38;5;241m=\u001B[39m np\u001B[38;5;241m.\u001B[39mwhere(np\u001B[38;5;241m.\u001B[39misin(selection, \u001B[38;5;28mself\u001B[39m\u001B[38;5;241m.\u001B[39mselection))[\u001B[38;5;241m0\u001B[39m]\n",
      "File \u001B[0;32m~/Documents/GitHub/auditory-evoked-potentials/.venv/lib/python3.11/site-packages/mne/epochs.py:332\u001B[0m, in \u001B[0;36m_handle_event_repeated\u001B[0;34m(events, event_id, event_repeated, selection, drop_log)\u001B[0m\n\u001B[1;32m    330\u001B[0m drop_log \u001B[38;5;241m=\u001B[39m \u001B[38;5;28mlist\u001B[39m(drop_log)\n\u001B[1;32m    331\u001B[0m \u001B[38;5;28;01mif\u001B[39;00m event_repeated \u001B[38;5;241m==\u001B[39m \u001B[38;5;124m\"\u001B[39m\u001B[38;5;124merror\u001B[39m\u001B[38;5;124m\"\u001B[39m:\n\u001B[0;32m--> 332\u001B[0m     \u001B[38;5;28;01mraise\u001B[39;00m \u001B[38;5;167;01mRuntimeError\u001B[39;00m(\n\u001B[1;32m    333\u001B[0m         \u001B[38;5;124m\"\u001B[39m\u001B[38;5;124mEvent time samples were not unique. Consider \u001B[39m\u001B[38;5;124m\"\u001B[39m\n\u001B[1;32m    334\u001B[0m         \u001B[38;5;124m'\u001B[39m\u001B[38;5;124msetting the `event_repeated` parameter.\u001B[39m\u001B[38;5;124m\"\u001B[39m\u001B[38;5;124m'\u001B[39m\n\u001B[1;32m    335\u001B[0m     )\n\u001B[1;32m    337\u001B[0m \u001B[38;5;28;01melif\u001B[39;00m event_repeated \u001B[38;5;241m==\u001B[39m \u001B[38;5;124m\"\u001B[39m\u001B[38;5;124mdrop\u001B[39m\u001B[38;5;124m\"\u001B[39m:\n\u001B[1;32m    338\u001B[0m     logger\u001B[38;5;241m.\u001B[39minfo(\n\u001B[1;32m    339\u001B[0m         \u001B[38;5;124m\"\u001B[39m\u001B[38;5;124mMultiple event values for single event times found. \u001B[39m\u001B[38;5;124m\"\u001B[39m\n\u001B[1;32m    340\u001B[0m         \u001B[38;5;124m\"\u001B[39m\u001B[38;5;124mKeeping the first occurrence and dropping all others.\u001B[39m\u001B[38;5;124m\"\u001B[39m\n\u001B[1;32m    341\u001B[0m     )\n",
      "\u001B[0;31mRuntimeError\u001B[0m: Event time samples were not unique. Consider setting the `event_repeated` parameter.\""
     ]
    }
   ],
   "source": [
    "# Load the data\n",
    "basepath = './Recordings'\n",
    "recordings = Recordings(basepath)\n",
    "recordings.print_info(group='*', session='*', subject_id='*', experiment_id='aep_feedback')"
   ],
   "metadata": {
    "collapsed": false,
    "ExecuteTime": {
     "end_time": "2024-04-25T07:22:05.200275Z",
     "start_time": "2024-04-25T07:22:04.132800Z"
    }
   },
   "id": "e051e4129493e5a1",
   "execution_count": 2
  },
  {
   "cell_type": "code",
   "outputs": [],
   "source": [
    "aep_feedback_recordings = recordings.filter_by(group='*', session='*', subject_id='*', experiment_id='aep_feedback')"
   ],
   "metadata": {
    "collapsed": false,
    "ExecuteTime": {
     "start_time": "2024-04-25T07:18:57.230704Z"
    }
   },
   "id": "abb063dbc6f498d",
   "execution_count": null
  },
  {
   "cell_type": "code",
   "outputs": [],
   "source": [
    "test_recording = aep_feedback_recordings[0]"
   ],
   "metadata": {
    "collapsed": false,
    "ExecuteTime": {
     "start_time": "2024-04-25T07:18:57.231498Z"
    }
   },
   "id": "9d50ec7df4dae3bc",
   "execution_count": null
  },
  {
   "cell_type": "code",
   "outputs": [],
   "source": [
    "# trial-begin\n",
    "# standard/oddball\n",
    "# response-received-(arrow_up/arrow_down)/response-was-missed\n",
    "# response-was-(correct/incorrect)/None\n",
    "# rt-(XXXms)\n",
    "# trial-end\n",
    "# ---"
   ],
   "metadata": {
    "collapsed": false,
    "ExecuteTime": {
     "start_time": "2024-04-25T07:18:57.232706Z"
    }
   },
   "id": "392ddc270f56b26a",
   "execution_count": null
  },
  {
   "cell_type": "code",
   "outputs": [],
   "source": [
    "test_recording._epochs\n",
    "test_recording._raw.plot(\n",
    "    events=events,\n",
    "    start=5,\n",
    "    duration=10,\n",
    "    color=\"gray\",\n",
    "    event_color={1: \"r\", 2: \"g\", 3: \"b\", 4: \"m\", 5: \"y\", 32: \"k\"},\n",
    ")"
   ],
   "metadata": {
    "collapsed": false,
    "ExecuteTime": {
     "start_time": "2024-04-25T07:18:57.233373Z"
    }
   },
   "id": "432f09db0830fde5",
   "execution_count": null
  },
  {
   "cell_type": "code",
   "outputs": [],
   "source": [],
   "metadata": {
    "collapsed": false,
    "ExecuteTime": {
     "start_time": "2024-04-25T07:18:57.234055Z"
    }
   },
   "id": "cad925620e93ea0f"
  }
 ],
 "metadata": {
  "kernelspec": {
   "display_name": "Python 3",
   "language": "python",
   "name": "python3"
  },
  "language_info": {
   "codemirror_mode": {
    "name": "ipython",
    "version": 2
   },
   "file_extension": ".py",
   "mimetype": "text/x-python",
   "name": "python",
   "nbconvert_exporter": "python",
   "pygments_lexer": "ipython2",
   "version": "2.7.6"
  }
 },
 "nbformat": 4,
 "nbformat_minor": 5
}
