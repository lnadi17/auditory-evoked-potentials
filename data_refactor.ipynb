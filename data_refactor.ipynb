{
 "cells": [
  {
   "cell_type": "code",
   "execution_count": 10,
   "id": "initial_id",
   "metadata": {
    "collapsed": true,
    "ExecuteTime": {
     "end_time": "2024-07-17T16:09:33.807129Z",
     "start_time": "2024-07-17T16:09:33.802778Z"
    }
   },
   "outputs": [],
   "source": [
    "import matplotlib\n",
    "\n",
    "matplotlib.use('TkAgg')\n",
    "from Recordings import AEPFeedbackRecording, Recordings, Recording\n",
    "import pandas as pd\n",
    "import numpy as np\n",
    "import os"
   ]
  },
  {
   "cell_type": "markdown",
   "source": [
    "The following cell loads all the raw data from the XDF files across different sessions and subjects. Data validation warnings are all manually checked and are fixed at the point the data is loaded."
   ],
   "metadata": {
    "collapsed": false
   },
   "id": "7028224b54854898"
  },
  {
   "cell_type": "code",
   "outputs": [
    {
     "name": "stdout",
     "output_type": "stream",
     "text": [
      "Reading recording: ./Recordings/1/9/1/9_aep_2024-06-10_14-32-42_1.xdf\n",
      "Reading recording: ./Recordings/1/9/1/9_aep_feedback_2024-06-10_14-40-46_1.xdf\n",
      "Reading recording: ./Recordings/1/9/10/9_resting_closed_2024-06-10_14-29-49_10.xdf\n",
      "Reading recording: ./Recordings/1/9/10/9_resting_open_2024-06-10_14-26-10_10.xdf\n",
      "Reading recording: ./Recordings/1/9/2/9_aep_feedback_2024-06-10_14-56-51_2.xdf\n",
      "WARNING, data validation failed. Recording 9_aep_feedback_2024-06-10_14-56-51_2.xdf does not match its metadata.\n",
      "Reading recording: ./Recordings/1/9/2/9_aep_2024-06-10_14-50-06_2.xdf\n",
      "WARNING, data validation failed. Recording 9_aep_2024-06-10_14-50-06_2.xdf does not match its metadata.\n",
      "Reading recording: ./Recordings/1/7/1/7_aep_2024-03-28_14-34-11_1.xdf\n",
      "Reading recording: ./Recordings/1/7/1/7_aep_feedback_2024-03-28_14-41-11_1.xdf\n",
      "Reading recording: ./Recordings/1/7/10/7_resting_closed_2024-05-23_16-27-08_10.xdf\n",
      "Reading recording: ./Recordings/1/7/10/7_resting_open_2024-05-23_16-22-06_10.xdf\n",
      "Reading recording: ./Recordings/1/7/2/7_aep_feedback_2024-03-28_14-55-34_2.xdf\n",
      "WARNING, data validation failed. Recording 7_aep_feedback_2024-03-28_14-55-34_2.xdf does not match its metadata.\n",
      "Reading recording: ./Recordings/1/7/2/7_aep_2024-03-28_14-49-32_2.xdf\n",
      "WARNING, data validation failed. Recording 7_aep_2024-03-28_14-49-32_2.xdf does not match its metadata.\n",
      "Reading recording: ./Recordings/1/6/1/6_aep_feedback_2024-03-27_15-09-15_1.xdf\n",
      "Reading recording: ./Recordings/1/6/1/6_aep_2024-03-27_14-59-46_1.xdf\n",
      "Reading recording: ./Recordings/1/6/10/6_resting_closed_2024-06-06_16-17-54_10.xdf\n",
      "Reading recording: ./Recordings/1/6/10/6_resting_open_2024-06-06_16-14-38_10.xdf\n",
      "Reading recording: ./Recordings/1/6/2/6_aep_2024-03-27_15-21-10_2.xdf\n",
      "Reading recording: ./Recordings/1/6/2/6_aep_feedback_2024-03-27_15-27-30_2.xdf\n",
      "Reading recording: ./Recordings/1/1/1/1_aep_2024-03-14_15-33-07_1.xdf\n",
      "Reading recording: ./Recordings/1/1/1/1_aep_feedback_2024-03-14_15-40-09_1.xdf\n",
      "Reading recording: ./Recordings/1/1/10/1_resting_closed_2024-06-10_14-13-48_10.xdf\n",
      "Reading recording: ./Recordings/1/1/10/1_resting_open_2024-06-10_14-10-56_10.xdf\n",
      "Reading recording: ./Recordings/1/1/2/1_aep_2024-03-14_15-55-54_2.xdf\n",
      "Reading recording: ./Recordings/1/1/2/1_aep_feedback_2024-03-14_16-07-46_2.xdf\n",
      "Reading recording: ./Recordings/1/10/1/10_aep_feedback_2024-07-07_13-36-23_1.xdf\n",
      "Reading recording: ./Recordings/1/10/1/10_aep_2024-07-07_13-30-26_1.xdf\n",
      "Reading recording: ./Recordings/1/10/1/10_aep_2024-07-07_12-58-52_1.xdf\n",
      "Reading recording: ./Recordings/1/10/10/10_resting_open_2024-07-07_12-50-41_10.xdf\n",
      "Reading recording: ./Recordings/1/10/10/10_resting_closed_2024-07-07_12-56-05_10.xdf\n",
      "Reading recording: ./Recordings/1/10/2/10_aep_feedback_2024-07-07_13-50-30_2.xdf\n",
      "Reading recording: ./Recordings/1/10/2/10_aep_2024-07-07_13-43-38_2.xdf\n",
      "Reading recording: ./Recordings/1/8/1/8_aep_feedback_2024-04-04_15-26-26_1.xdf\n",
      "Reading recording: ./Recordings/1/8/1/8_aep_2024-04-04_15-19-11_1.xdf\n",
      "Reading recording: ./Recordings/1/8/2/8_aep_2024-04-04_15-33-53_2.xdf\n",
      "WARNING, data validation failed. Recording 8_aep_2024-04-04_15-33-53_2.xdf does not match its metadata.\n",
      "Reading recording: ./Recordings/1/8/2/8_aep_feedback_2024-04-04_15-39-42_2.xdf\n",
      "WARNING, data validation failed. Recording 8_aep_feedback_2024-04-04_15-39-42_2.xdf does not match its metadata.\n",
      "Reading recording: ./Recordings/1/4/1/4_aep_feedback_2024-03-21_15-36-36_1.xdf\n",
      "Reading recording: ./Recordings/1/4/1/4_aep_2024-03-21_15-29-59_1.xdf\n",
      "Reading recording: ./Recordings/1/4/10/4_resting_closed_2024-05-23_16-10-36_10.xdf\n",
      "Reading recording: ./Recordings/1/4/10/4_resting_open_2024-05-23_16-07-15_10.xdf\n",
      "Reading recording: ./Recordings/1/4/2/4_aep_2024-03-21_15-47-01_2.xdf\n",
      "Reading recording: ./Recordings/1/4/2/4_aep_feedback_2024-03-21_15-52-36_2.xdf\n",
      "Reading recording: ./Recordings/1/3/1/3_aep_feedback_2024-03-21_14-43-26_1.xdf\n",
      "Reading recording: ./Recordings/1/3/1/3_aep_2024-03-21_14-35-57_1.xdf\n",
      "Reading recording: ./Recordings/1/3/10/3_resting_closed_2024-06-20_15-10-36_10.xdf\n",
      "Reading recording: ./Recordings/1/3/10/3_resting_open_2024-06-20_15-05-32_10.xdf\n",
      "Reading recording: ./Recordings/1/3/2/3_aep_2024-03-21_14-52-22_2.xdf\n",
      "WARNING, data validation failed. Recording 3_aep_2024-03-21_14-52-22_2.xdf does not match its metadata.\n",
      "Reading recording: ./Recordings/1/3/2/3_aep_feedback_2024-03-21_14-58-12_2.xdf\n",
      "WARNING, data validation failed. Recording 3_aep_feedback_2024-03-21_14-58-12_2.xdf does not match its metadata.\n",
      "Reading recording: ./Recordings/1/2/1/2_aep_feedback_2024-03-27_13-00-43_1.xdf\n",
      "Reading recording: ./Recordings/1/2/1/2_aep_2024-03-18_15-35-07_1.xdf\n",
      "Reading recording: ./Recordings/1/2/1/2_aep_feedback_2024-03-18_15-42-22_1.xdf\n",
      "Reading recording: ./Recordings/1/2/10/2_resting_open_2024-06-06_16-32-14_10.xdf\n",
      "Reading recording: ./Recordings/1/2/10/2_resting_closed_2024-06-06_16-35-50_10.xdf\n",
      "Reading recording: ./Recordings/1/2/2/2_aep_feedback_2024-03-27_13-15-18_2.xdf\n",
      "WARNING, data validation failed. Recording 2_aep_feedback_2024-03-27_13-15-18_2.xdf does not match its metadata.\n",
      "Reading recording: ./Recordings/1/2/2/2_aep_2024-03-27_13-08-36_2.xdf\n",
      "WARNING, data validation failed. Recording 2_aep_2024-03-27_13-08-36_2.xdf does not match its metadata.\n",
      "Reading recording: ./Recordings/1/5/1/5_aep_feedback_2024-03-27_13-55-48_1.xdf\n",
      "Reading recording: ./Recordings/1/5/1/5_aep_2024-03-27_13-45-46_1.xdf\n",
      "Reading recording: ./Recordings/1/5/10/5_resting_open_2024-05-23_15-46-23_10.xdf\n",
      "Reading recording: ./Recordings/1/5/10/5_resting_closed_2024-05-23_15-49-52_10.xdf\n",
      "Reading recording: ./Recordings/1/5/2/5_aep_feedback_2024-03-27_14-14-36_2.xdf\n",
      "WARNING, data validation failed. Recording 5_aep_feedback_2024-03-27_14-14-36_2.xdf does not match its metadata.\n",
      "Reading recording: ./Recordings/1/5/2/5_aep_2024-03-27_14-08-26_2.xdf\n",
      "WARNING, data validation failed. Recording 5_aep_2024-03-27_14-08-26_2.xdf does not match its metadata.\n"
     ]
    }
   ],
   "source": [
    "# Load the data\n",
    "basepath = './Recordings'\n",
    "recordings = Recordings(basepath)"
   ],
   "metadata": {
    "collapsed": false,
    "ExecuteTime": {
     "end_time": "2024-07-17T15:43:34.574647Z",
     "start_time": "2024-07-17T15:43:17.926337Z"
    }
   },
   "id": "731fe6b0ed6e0b2c",
   "execution_count": 2
  },
  {
   "cell_type": "markdown",
   "source": [
    "First we export the raw data in CSV files. All the XDF files are simply converted to tables, where each column is a channel from Unicorn Hybrid Black EEG device, with an additional column for event markers."
   ],
   "metadata": {
    "collapsed": false
   },
   "id": "fad9832d271c401c"
  },
  {
   "cell_type": "code",
   "outputs": [],
   "source": [
    "# We first create Pandas table for each recording file\n",
    "output_tables = []\n",
    "for recording in recordings.recordings:\n",
    "    data = {\n",
    "        \"Time\": recording.eeg_time,\n",
    "        \"EEG_Fz\": recording.eeg_data[:, 0],\n",
    "        \"EEG_C3\": recording.eeg_data[:, 1],\n",
    "        \"EEG_Cz\": recording.eeg_data[:, 2],\n",
    "        \"EEG_C4\": recording.eeg_data[:, 3],\n",
    "        \"EEG_Pz\": recording.eeg_data[:, 4],\n",
    "        \"EEG_PO7\": recording.eeg_data[:, 5],\n",
    "        \"EEG_Oz\": recording.eeg_data[:, 6],\n",
    "        \"EEG_PO8\": recording.eeg_data[:, 7],\n",
    "        \"Accelerometer_X\": recording.accelerometer_data[:, 0],\n",
    "        \"Accelerometer_Y\": recording.accelerometer_data[:, 1],\n",
    "        \"Accelerometer_Z\": recording.accelerometer_data[:, 2],\n",
    "        \"Gyroscope_X\": recording.gyroscope_data[:, 0],\n",
    "        \"Gyroscope_Y\": recording.gyroscope_data[:, 1],\n",
    "        \"Gyroscope_Z\": recording.gyroscope_data[:, 2],\n",
    "        \"Battery_Level\": recording.battery_level_data,\n",
    "        \"Counter\": recording.counter_data,\n",
    "        \"Validation\": recording.validation_indicator_data,\n",
    "    }\n",
    "    df = pd.DataFrame(data=data)\n",
    "    indices_array = [(np.abs(df['Time'] - value)).argmin() for value in recording.marker_time]\n",
    "    # Avoid collision of events\n",
    "    for i, val in enumerate(indices_array):\n",
    "        if i > 0 and indices_array[i - 1] == val:\n",
    "            indices_array[i] += 1\n",
    "    for index, event in zip(indices_array, recording.marker_data):\n",
    "        df.at[index, 'Event'] = event\n",
    "    output_tables.append(df)"
   ],
   "metadata": {
    "collapsed": false,
    "ExecuteTime": {
     "end_time": "2024-07-17T15:43:49.224449Z",
     "start_time": "2024-07-17T15:43:34.579357Z"
    }
   },
   "id": "25fd29ab8f48211a",
   "execution_count": 3
  },
  {
   "cell_type": "markdown",
   "source": [
    "## Raw Files Description\n",
    "\n",
    "A folder named \"Raw_Files\" contains unsegmented, unfiltered and unprocessed data in CSV format. Each folder in \"Raw_Files\" that corresponds to one of the four experiment types will contain recordings from each subject.\n",
    "\n",
    "Output folder structure:\n",
    "- Raw_Files/\n",
    "    - AEP/\n",
    "    - AEP_Feedback/\n",
    "    - Resting_Open/\n",
    "    - Resting_Closed/\n",
    "\n",
    "Recording files inside these folders are be named as such: `{Subject ID}_{Experiment Type}_{Session ID}.csv`. \n",
    "\n",
    "For example, resting state recording (with eyes open) from the first subject during the second session will have the name: `1_resting-open_2.csv`.\n",
    "\n",
    "Subjects are numbered from 1 through 10 and possible experiment types are aep/aep-feedback/resting-open/resting-closed. Session IDs are either 1 or 2 for 'aep/aep-feedback' experiments, while all resting state experiments have a single session.\n",
    "\n",
    "Some recordings will have an additional '_UNFINISHED' suffix at the end, which means that the recording was interrupted during during that session (for example, due to EEG device battery getting too low). All '_UNFINISHED' recordings were re-run from start to finish, which means there are at least two full sessions for 'aep/aep-feedback' experiments. However, epochs from unfinished recordings do not have any defects and can be freely used in the subsequent steps of processing.  "
   ],
   "metadata": {
    "collapsed": false
   },
   "id": "d9afee2afeb11a05"
  },
  {
   "cell_type": "code",
   "outputs": [
    {
     "name": "stdout",
     "output_type": "stream",
     "text": [
      "Recording named 10_aep_2024-07-07_12-58-52_1.xdf is unfinished, while 10_aep_2024-07-07_13-30-26_1.xdf is not.\n",
      "Recording named 2_aep_feedback_2024-03-18_15-42-22_1.xdf is unfinished, while 2_aep_feedback_2024-03-27_13-00-43_1.xdf is not.\n"
     ]
    }
   ],
   "source": [
    "for i, recording in enumerate(recordings.recordings):\n",
    "    # Find out if the current recording is unfinished\n",
    "    is_current_unfinished = False\n",
    "    if recording.experiment_id == 'aep' or recording.experiment_id == 'aep_feedback':\n",
    "        similar_recordings = [r for r in recordings.recordings if r.subject_id == recording.subject_id and r.experiment_id == recording.experiment_id and r.session == recording.session]\n",
    "        if len(similar_recordings) > 1:  # There will always be at least 1 similar recording (self)\n",
    "            similar_recordings = sorted(similar_recordings, key=lambda x: x.recording_name)  # This will sort by name which also sorts by time recorded in this case\n",
    "            # Checks if current recording was recorded before the other (similar) one, in which case the current must be labeled as unfinished\n",
    "            if recording.recording_name == similar_recordings[0].recording_name:\n",
    "                print(f'Recording named {recording.recording_name} is unfinished, while {similar_recordings[1].recording_name} is not.')\n",
    "                is_current_unfinished = True\n",
    "    # Create an output directory and name the output file\n",
    "    if recording.experiment_id == 'aep':\n",
    "        subfolder = \"AEP\"\n",
    "    elif recording.experiment_id == 'aep_feedback':\n",
    "        subfolder = \"AEP_Feedback\"\n",
    "    elif recording.experiment_id == 'resting_open':\n",
    "        subfolder = \"Resting_Open\"\n",
    "    else:\n",
    "        subfolder = \"Resting_Closed\"\n",
    "    output_dir = f'./Raw_Files/{subfolder}/'\n",
    "    output_filename = f\"{recording.subject_id}_{recording.experiment_id.replace('_', '-')}_{recording.session}\"\n",
    "    if is_current_unfinished:\n",
    "        output_filename += '_UNFINISHED'\n",
    "    output_path = f'{output_dir}{output_filename}.csv'\n",
    "    # Create output directory\n",
    "    os.makedirs(output_dir, exist_ok=True)\n",
    "    # Export the recording file\n",
    "    output_tables[i].to_csv(output_path)"
   ],
   "metadata": {
    "collapsed": false,
    "ExecuteTime": {
     "end_time": "2024-07-17T16:27:28.879559Z",
     "start_time": "2024-07-17T16:26:06.153588Z"
    }
   },
   "id": "21f277a956b8f8fa",
   "execution_count": 15
  },
  {
   "cell_type": "markdown",
   "source": [
    "## File Structure\n",
    "\n",
    "Each CSV file recording has 19 columns. Each column corresponds to an output channel acquired from the Unicorn Hybrid Black EEG device. There are different types of channels in the raw recording files: 1 time channel, 8 EEG channels, 3 accelerometer channels, 3 gyroscope channels, 1 counter channel, 1 validation channel, and 1 event channel. \n",
    "\n",
    "Specifically, all the 19 channels are: Time, EEG_Fz, EEG_C3, EEG_Cz, EEG_C4, EEG_Pz, EEG_PO7, EEG_Oz, EEG_PO8, Accelerometer_X, Accelerometer_Y, Accelerometer_Z, Gyroscope_X, Gyroscope_Y, Gyroscope_Z, Battery_Level, Counter, Validation, Event.\n",
    "\n",
    "1. *Time* column indicates number of seconds passed since the start of the session.\n",
    "2. *EEG_\\** columns indicate unfiltered voltage values (in microvolts) for 8 EEG channels specified in Unicord Hybrid Black EEG device manual. For each EEG channel an electrode position is indicated (e.g. Cz) according to international 10-20 system.\n",
    "3. *Accelerometer_\\** columns indicate acceleration (±8 g) of the Unicorn Hybrid Black EEG device in X/Y/Z directions.\n",
    "4. *Gyroscope_\\** columns indicate the angular rotation (±1000 °/s) of Unicorn Hybrid Black EEG device in X/Y/Z directions.\n",
    "5. *Battery_Level* column value ranges from 0 to 100 and indicates the remaining battery level.\n",
    "6. *Counter* column tracks the sample order in which the values were received from Unicorn Hybrid Black to the host PC.\n",
    "7. *Validation* column is a validation indicator for the samples received from Unicorn Hybrid Black device.\n",
    "8. *Event* column indicates if any event was registered during the recording. Event descriptions for different experiment types can be found below.\n",
    "\n",
    "More information about channels can be found in [Unicorn Hybrid Black User Manual](https://github.com/unicorn-bi/Unicorn-Suite-Hybrid-Black-User-Manual).\n",
    "\n",
    "The data was streamed using Unicorn LSL interface, which by itself outputs 17 raw channels (except \"Time\" and \"Events\" channels). Given channels were exported into CSV files without any modification. Event markers were streamed (also using LSL protocol) by NeuroPype™ Experiment Recorder (ER) software. Both of these streams were exported in XDF file format and then automatically synced using PyXDF library. As a result, \"Time\" and \"Events\" columns were added to the CSV files."
   ],
   "metadata": {
    "collapsed": false
   },
   "id": "7fc0c486938a39b5"
  },
  {
   "cell_type": "markdown",
   "source": [
    "## Segmented Data"
   ],
   "metadata": {
    "collapsed": false
   },
   "id": "da3e73cbb7f889fa"
  }
 ],
 "metadata": {
  "kernelspec": {
   "display_name": "Python 3",
   "language": "python",
   "name": "python3"
  },
  "language_info": {
   "codemirror_mode": {
    "name": "ipython",
    "version": 2
   },
   "file_extension": ".py",
   "mimetype": "text/x-python",
   "name": "python",
   "nbconvert_exporter": "python",
   "pygments_lexer": "ipython2",
   "version": "2.7.6"
  }
 },
 "nbformat": 4,
 "nbformat_minor": 5
}
